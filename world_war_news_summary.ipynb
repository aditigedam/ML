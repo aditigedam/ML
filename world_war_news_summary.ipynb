{
  "nbformat": 4,
  "nbformat_minor": 0,
  "metadata": {
    "colab": {
      "name": "Project1.ipynb",
      "provenance": [],
      "authorship_tag": "ABX9TyN8CfUyigY/C9mRLj/eOj6M",
      "include_colab_link": true
    },
    "kernelspec": {
      "name": "python3",
      "display_name": "Python 3"
    },
    "language_info": {
      "name": "python"
    }
  },
  "cells": [
    {
      "cell_type": "markdown",
      "metadata": {
        "id": "view-in-github",
        "colab_type": "text"
      },
      "source": [
        "<a href=\"https://colab.research.google.com/github/aditigedam/ML/blob/main/world_war_news_summary.ipynb\" target=\"_parent\"><img src=\"https://colab.research.google.com/assets/colab-badge.svg\" alt=\"Open In Colab\"/></a>"
      ]
    },
    {
      "cell_type": "code",
      "execution_count": 1,
      "metadata": {
        "id": "9SPnUZFmji1g"
      },
      "outputs": [],
      "source": [
        "import bs4 as bs\n",
        "import requests\n",
        "import pandas as pd\n",
        "import pickle # we can store objects for later use"
      ]
    },
    {
      "cell_type": "code",
      "source": [
        "url = 'https://www.dailymaverick.co.za/article/2022-05-04-aurum-institute-set-to-reveal-groundbreaking-research-on-hiv-vaccine/'"
      ],
      "metadata": {
        "id": "Cdd70lVpl6Pe"
      },
      "execution_count": 2,
      "outputs": []
    },
    {
      "cell_type": "code",
      "source": [
        ""
      ],
      "metadata": {
        "id": "SybUB5olr3tR"
      },
      "execution_count": null,
      "outputs": []
    },
    {
      "cell_type": "code",
      "source": [
        "re= requests.get(url)"
      ],
      "metadata": {
        "id": "ga5nBIqpmOJP"
      },
      "execution_count": 3,
      "outputs": []
    },
    {
      "cell_type": "code",
      "source": [
        "print(re)"
      ],
      "metadata": {
        "colab": {
          "base_uri": "https://localhost:8080/"
        },
        "id": "PMNdcGk1mRVO",
        "outputId": "99591152-0306-4b8f-bc15-d74054df61c0"
      },
      "execution_count": 4,
      "outputs": [
        {
          "output_type": "stream",
          "name": "stdout",
          "text": [
            "<Response [200]>\n"
          ]
        }
      ]
    },
    {
      "cell_type": "code",
      "source": [
        "soup = bs.BeautifulSoup(re.content,'lxml')\n",
        "soup"
      ],
      "metadata": {
        "id": "RjTzGzJSmjju"
      },
      "execution_count": null,
      "outputs": []
    },
    {
      "cell_type": "code",
      "source": [
        "content = soup.find('div',class_ = 'article-content')"
      ],
      "metadata": {
        "id": "g3T8dJGfnGHO"
      },
      "execution_count": 6,
      "outputs": []
    },
    {
      "cell_type": "code",
      "source": [
        "content.text"
      ],
      "metadata": {
        "colab": {
          "base_uri": "https://localhost:8080/",
          "height": 140
        },
        "id": "W2eU4GPfnO7e",
        "outputId": "221dfc1a-889a-4232-c8f8-8214df798b0a"
      },
      "execution_count": 8,
      "outputs": [
        {
          "output_type": "execute_result",
          "data": {
            "text/plain": [
              "'\\nHIV Vaccine Awareness Day recognises the many volunteers, community members, health professionals and scientists who work together to find a safe and effective vaccine to prevent HIV.\\nOn Wednesday, 4 May, the Aurum Institute, an African health impact organisation dedicated to researching, supporting and implementing innovative integrated approaches to global health, in partnership with the International Aids Vaccine Initiative (IAVI), a nonprofit scientific research organisation that develops vaccines and antibodies for HIV, tuberculosis, emerging infectious diseases (including Covid-19), and neglected diseases, hosted a roundtable discussion on the latest developments in HIV vaccine development.\\xa0\\nAurum Institute head of the department of clinical research development projects, Trevor Beattie, said the institute operated in five locations around South Africa — Tembisa, Pretoria, Klerksdorp, Rustenburg and Durban. Beattie also gave an overview of the institute’s work on treating and preventing tuberculosis (TB), Covid-19 and some non-communicable diseases.\\xa0\\nHe said that each clinical site had an advisory committee that acted as a bridge between the communities they were based in and researchers.\\nThis served to enable better communication and understanding of the research and trials being conducted. Tembisa is the largest clinical research site and has the most research experience on TB.\\nUnions demand 10% increase in public sector wages, setting the stage for a bitter battle\\n\\nMedical director at the IAVI Ansuya Naidoo is working on what is called the IAVI G003, the HIV germline targeting study first carried out on humans in the US. The IAVI is investigating the possibility of doing this in Africa. The process involves guiding the immune system, step by step, to induce antibodies that can counteract HIV. The study is being funded by USAID through PEPFAR under the ADVANCE (Accelerate the Development of Vaccines and New Technologies to Combat the AIDS Epidemic) and supported by the Bill and Melinda Gates Foundation through grants to Moderna and to the Collaboration for AIDS Vaccine Discovery Vaccine Immunology Statistical Center.\\xa0\\nNaidoo said that the IAVI wanted to prepare and build the capacity of African research sites to conduct medical trials on the continent for the HIV immunogen. She noted that what was important during the trials was taking into consideration the specific environmental conditions affecting African people, such as nutrition, climate, pollution, and other diseases that people faced, which could impact the efficacy of a potential vaccine.\\nNaidoo cautioned, however, that it was still very early in the research stage, saying that it was the first step leading toward a vaccine. She emphasised that HIV was very different from other diseases and that people needed to be aware of the sub-types of HIV and the emerging treatment-resistant strains and which ones were dominant in specific countries and or regions.\\nNaidoo said the study needed to be conducted in healthy adults who were not HIV positive, and its safety needed to be tested. The organisation’s internal support teams would be on hand to help with the upskilling of medical research teams at identified sites in Africa. Participants would be monitored over a period of six months.\\nDirector of socio-behavioural research at the IAVI Yvonne Wangũi Machira underscored the importance of breaking down the science to participants and providing as much information as possible on the study’s intended purpose when conducting the research trials.\\nThis would ensure acceptance and comfort with the process. Machira said it was important to hear what the expectations and concerns of participants were before participation as well as following up on their views after the trials — the human experience is just as important as the clinical results.\\nMachira said that an issue with the uptake of the Covid-19 vaccines was that research and trials usually did not happen in Africa, whereas this trial would be on the continent.\\nNaidoo acknowledged that clinical and ethical implications also needed to be considered during the trials.\\nAmong clinical considerations were the qualifications of people performing the trial procedures and whether the trials could be performed across different age groups. Some ethical considerations were the conducting of benefit and risk assessments — which participants would be made aware of, gaining participant acceptability, overall education and observing the cultural sensitivities of participants. DM/MC\\n\\nRelated Articles\\n\\n\\n\\n\\n\\n\\n\\n'"
            ],
            "application/vnd.google.colaboratory.intrinsic+json": {
              "type": "string"
            }
          },
          "metadata": {},
          "execution_count": 8
        }
      ]
    },
    {
      "cell_type": "code",
      "source": [
        "url2 = 'https://www.economist.com/'"
      ],
      "metadata": {
        "id": "-O7BCwYJnQKO"
      },
      "execution_count": 9,
      "outputs": []
    },
    {
      "cell_type": "code",
      "source": [
        "re = requests.get(url2)"
      ],
      "metadata": {
        "id": "o5HcXpJCo7w-"
      },
      "execution_count": 10,
      "outputs": []
    },
    {
      "cell_type": "code",
      "source": [
        "soup = bs.BeautifulSoup(re.content,'lxml')"
      ],
      "metadata": {
        "id": "Bg5rGbvopAI-"
      },
      "execution_count": 11,
      "outputs": []
    },
    {
      "cell_type": "code",
      "source": [
        "content = soup.find_all('p')"
      ],
      "metadata": {
        "id": "gO3UeM7spHEt"
      },
      "execution_count": 12,
      "outputs": []
    },
    {
      "cell_type": "code",
      "source": [
        "content"
      ],
      "metadata": {
        "id": "NJnIY3wCpJat"
      },
      "execution_count": null,
      "outputs": []
    },
    {
      "cell_type": "code",
      "source": [
        "headlights = soup.find_all('h3',class_='css-cxz0do ef0oilz0')"
      ],
      "metadata": {
        "id": "hwnxI4dLqMg9"
      },
      "execution_count": 14,
      "outputs": []
    },
    {
      "cell_type": "code",
      "source": [
        "for i in headlights:\n",
        "  print(i.text)"
      ],
      "metadata": {
        "colab": {
          "base_uri": "https://localhost:8080/"
        },
        "id": "RdcSyTfjrhe9",
        "outputId": "6aaa29b4-92ae-4946-c745-aa4685c7e2ec"
      },
      "execution_count": 15,
      "outputs": [
        {
          "output_type": "stream",
          "name": "stdout",
          "text": [
            "A world grain shortage puts tens of millions at risk\n"
          ]
        }
      ]
    },
    {
      "cell_type": "code",
      "source": [
        "x = soup.find('h3',class_='css-cxu8jy ef0oilz0')"
      ],
      "metadata": {
        "id": "30dEPtuqrioN"
      },
      "execution_count": 16,
      "outputs": []
    },
    {
      "cell_type": "code",
      "source": [
        "print(x.text)"
      ],
      "metadata": {
        "colab": {
          "base_uri": "https://localhost:8080/"
        },
        "id": "gQiMAB0IuXJV",
        "outputId": "b4b64a7d-f157-4cf1-fd18-eb057e8310ed"
      },
      "execution_count": 17,
      "outputs": [
        {
          "output_type": "stream",
          "name": "stdout",
          "text": [
            "America’s states are drifting apart over illegal immigration\n"
          ]
        }
      ]
    },
    {
      "cell_type": "code",
      "source": [
        "print(x.href)"
      ],
      "metadata": {
        "colab": {
          "base_uri": "https://localhost:8080/"
        },
        "id": "eWsaAZRqvtux",
        "outputId": "b5378d0e-c2f0-450f-f60c-5840d67feea5"
      },
      "execution_count": 18,
      "outputs": [
        {
          "output_type": "stream",
          "name": "stdout",
          "text": [
            "None\n"
          ]
        }
      ]
    },
    {
      "cell_type": "code",
      "source": [
        "links = x.find_all('a')\n",
        "print(links)"
      ],
      "metadata": {
        "colab": {
          "base_uri": "https://localhost:8080/"
        },
        "id": "ZURArU01ssMI",
        "outputId": "a7ecbfef-6502-4b4d-f242-226ea4d9e266"
      },
      "execution_count": 19,
      "outputs": [
        {
          "output_type": "stream",
          "name": "stdout",
          "text": [
            "[<a data-analytics=\"top_stories:headline_2\" href=\"/leaders/2022/05/19/americas-states-are-drifting-apart-over-illegal-immigration\">America’s states are drifting apart over illegal immigration</a>]\n"
          ]
        }
      ]
    },
    {
      "cell_type": "code",
      "source": [
        ""
      ],
      "metadata": {
        "id": "9_LDQaPZw2gH"
      },
      "execution_count": 19,
      "outputs": []
    },
    {
      "cell_type": "code",
      "source": [
        "for i in x:\n",
        "  print(i.text)"
      ],
      "metadata": {
        "colab": {
          "base_uri": "https://localhost:8080/"
        },
        "id": "P3wmbjHxsSBe",
        "outputId": "03e6324a-e128-4325-f30b-7c3aa67734f7"
      },
      "execution_count": 20,
      "outputs": [
        {
          "output_type": "stream",
          "name": "stdout",
          "text": [
            "America’s states are drifting apart over illegal immigration\n"
          ]
        }
      ]
    },
    {
      "cell_type": "code",
      "source": [
        "y = soup.find('div',class_='css-12cd6fr eprz4kh0')\n"
      ],
      "metadata": {
        "id": "_Dr79knlsT1O"
      },
      "execution_count": 21,
      "outputs": []
    },
    {
      "cell_type": "code",
      "source": [
        "z = y.find_all('div',class_ = 'e1yv2jhn0')"
      ],
      "metadata": {
        "id": "KrQuoOCXxwKP"
      },
      "execution_count": 22,
      "outputs": []
    },
    {
      "cell_type": "code",
      "source": [
        "y"
      ],
      "metadata": {
        "colab": {
          "base_uri": "https://localhost:8080/"
        },
        "id": "lw8HcafEx8NO",
        "outputId": "dae1039e-d3a0-47bc-d765-075641f49df9"
      },
      "execution_count": 23,
      "outputs": [
        {
          "output_type": "execute_result",
          "data": {
            "text/plain": [
              "<div class=\"css-12cd6fr eprz4kh0\"><style data-emotion=\"css 945kml\">.css-945kml{position:relative;width:100%;margin-top:0;overflow:hidden;display:block;}.ekr7o470 .css-945kml{margin-top:-0.25rem;margin-bottom:0;}@media (min-width: 22.5rem){.ekr7o470 .css-945kml{margin-top:-0.25rem;margin-bottom:0;}}@media (min-width: 37.5rem){.ekr7o470 .css-945kml{margin-top:-0.25rem;margin-bottom:0;}}@media (min-width: 60rem){.ekr7o470 .css-945kml{margin-top:0;margin-bottom:0;}}@media (min-width: 80rem){.ekr7o470 .css-945kml{margin-top:0;margin-bottom:0;}}.ej7lvzi1 .css-945kml{margin-left:0.75rem;margin-top:0;}@media (max-width: 29.9375rem){.ej7lvzi1 .css-945kml{padding-top:0.375rem;}}@media (min-width: 60rem){.css-945kml{display:block;}}</style><div class=\"css-945kml e1yv2jhn0\"><style data-emotion=\"css 1wausq5\">.css-1wausq5{position:relative;float:none;width:100%;margin:0;}.css-1wausq5 img{display:block;}.css-1wausq5 svg{bottom:0;display:block;left:0;position:absolute;width:15%;}.css-1wausq5+.ef0oilz0{margin-top:0.5rem;}.css-1wausq5+.eajo7ll0{margin-top:0.75rem;}@media (min-width: 37.5rem){.css-1wausq5{float:right;margin:0.25rem 0 0 1.5rem;width:50%;}.css-1wausq5+.ef0oilz0{margin-top:0;}.css-1wausq5+.eajo7ll0{margin-top:0;}}@media (min-width: 60rem){.css-1wausq5{float:none;width:100%;margin:0;}.css-1wausq5+.ef0oilz0{margin-top:0.5rem;}.css-1wausq5+.eajo7ll0{margin-top:0.75rem;}}</style><div class=\"css-1wausq5 e1t79wji0\"><div itemprop=\"image\" itemscope=\"\" itemtype=\"https://schema.org/ImageObject\"><meta content=\"https://www.economist.com/img/b/1280/720/90/media-assets/image/20220521_LDP503.jpg\" itemprop=\"url\"/><img alt=\"\" height=\"720\" sizes=\"(min-width: 1440px) 335px, (min-width: 1280px) 22.5vw, (min-width: 960px) 30vw, (min-width: 600px) 47.5vw, 95vw\" src=\"https://www.economist.com/img/b/1280/720/90/media-assets/image/20220521_LDP503.jpg\" srcset=\"https://www.economist.com/img/b/200/113/90/media-assets/image/20220521_LDP503.jpg 200w,https://www.economist.com/img/b/300/169/90/media-assets/image/20220521_LDP503.jpg 300w,https://www.economist.com/img/b/400/225/90/media-assets/image/20220521_LDP503.jpg 400w,https://www.economist.com/img/b/600/338/90/media-assets/image/20220521_LDP503.jpg 600w,https://www.economist.com/img/b/640/360/90/media-assets/image/20220521_LDP503.jpg 640w,https://www.economist.com/img/b/800/450/90/media-assets/image/20220521_LDP503.jpg 800w,https://www.economist.com/img/b/1000/563/90/media-assets/image/20220521_LDP503.jpg 1000w,https://www.economist.com/img/b/1280/720/90/media-assets/image/20220521_LDP503.jpg 1280w\" width=\"1280\"/></div></div><p class=\"css-1129mxi eajo7ll0\">Leaders</p><style data-emotion=\"css cxu8jy\">.css-cxu8jy{font-family:var(--ds-type-system-serif);font-size:var(--ds-type-scale-4);font-weight:normal;line-height:var(--ds-type-leading-upper);}.css-cxu8jy a{-webkit-text-decoration:none;text-decoration:none;color:var(--ds-color-london-5);display:block;}.css-cxu8jy a:hover,.css-cxu8jy a:hover .ecd11tl0{color:var(--ds-color-chicago-30);-webkit-text-decoration:underline;text-decoration:underline;}.css-cxu8jy a:focus,.css-cxu8jy a:focus .ecd11tl0{background-color:var(--ds-color-chicago-95);color:var(--ds-color-london-5);outline:none;-webkit-text-decoration:underline;text-decoration:underline;}.e5no54b0 .css-cxu8jy a:focus,.e5no54b0 .css-cxu8jy a:focus .ecd11tl0{background-color:hsla(var(--ds-color-hsl-london-5), 0.05);}.css-cxu8jy a:active,.css-cxu8jy a:active .ecd11tl0{color:var(--ds-color-chicago-30);}.e5no54b0 .css-cxu8jy a:active,.e5no54b0 .css-cxu8jy a:active .ecd11tl0{background:none;}.css-cxu8jy a::before{bottom:0;content:'';display:block;left:0;opacity:0;overflow:hidden;position:absolute;right:0;text-indent:-999em;top:0;white-space:nowrap;z-index:1;}.css-cxu8jy+.e1smrlcj0{margin-top:0.5rem;}.e13svp5c0 .css-cxu8jy+.e1smrlcj0{margin-top:0;}</style><h3 class=\"css-cxu8jy ef0oilz0\"><a data-analytics=\"top_stories:headline_2\" href=\"/leaders/2022/05/19/americas-states-are-drifting-apart-over-illegal-immigration\">America’s states are drifting apart over illegal immigration</a></h3><style data-emotion=\"css qnkbrf\">.css-qnkbrf{color:var(--ds-color-london-10);font-family:var(--ds-type-system-serif);max-width:43.75rem;font-size:1.125rem;line-height:var(--ds-type-leading-lower);}.e5no54b0 .css-qnkbrf{font-size:var(--ds-type-scale-2);}</style><p class=\"css-qnkbrf e1smrlcj0\">Deepening fissures over the treatment of illegal immigrants</p></div><style data-emotion=\"css 14vydkx\">.css-14vydkx{border-width:0;border-top:1px solid var(--ds-color-london-85);margin:1.5rem 0;margin:1.5rem 0 1.25rem 0;width:100%;}</style><hr class=\"css-14vydkx e1hgtj4y0\"/><style data-emotion=\"css ove82\">.css-ove82{position:relative;width:100%;margin-top:0;overflow:hidden;display:block;}.ekr7o470 .css-ove82{margin-top:-0.25rem;margin-bottom:0;}@media (min-width: 22.5rem){.ekr7o470 .css-ove82{margin-top:-0.25rem;margin-bottom:0;}}@media (min-width: 37.5rem){.ekr7o470 .css-ove82{margin-top:0;margin-bottom:1.5rem;}}@media (min-width: 60rem){.ekr7o470 .css-ove82{margin-top:-0.25rem;margin-bottom:1.5rem;}}@media (min-width: 80rem){.ekr7o470 .css-ove82{margin-top:0;margin-bottom:1.5rem;}}.ej7lvzi1 .css-ove82{margin-left:0.75rem;margin-top:0;}@media (max-width: 29.9375rem){.ej7lvzi1 .css-ove82{padding-top:0.375rem;}}@media (min-width: 60rem){.css-ove82{display:block;}}</style><div class=\"css-ove82 e1yv2jhn0\"><p class=\"css-1129mxi eajo7ll0\">Middle East &amp; Africa</p><h3 class=\"css-cxu8jy ef0oilz0\"><a data-analytics=\"top_stories:headline_3\" href=\"/middle-east-and-africa/2022/05/19/is-weak-governance-harming-the-african-development-bank\">Is weak governance harming the African Development Bank?</a></h3><p class=\"css-qnkbrf e1smrlcj0\">Several incidents raise troubling questions about one of Africa’s most important banks</p></div><style data-emotion=\"css 16ds0jk\">.css-16ds0jk{border-width:0;border-top:1px solid var(--ds-color-london-85);margin:1.5rem 0;margin:1.5rem 0 0;width:100%;display:block;}@media (min-width: 60rem){.css-16ds0jk{display:none;}}</style><hr class=\"css-16ds0jk e1hgtj4y0\"/></div>"
            ]
          },
          "metadata": {},
          "execution_count": 23
        }
      ]
    },
    {
      "cell_type": "code",
      "source": [
        "for i in z:\n",
        "  aS = i.find('a')\n",
        "  print(aS['href'])"
      ],
      "metadata": {
        "colab": {
          "base_uri": "https://localhost:8080/"
        },
        "id": "EWLmBHwAzEt_",
        "outputId": "df694414-be8f-45d7-f68a-3dfaae045d3d"
      },
      "execution_count": 24,
      "outputs": [
        {
          "output_type": "stream",
          "name": "stdout",
          "text": [
            "/leaders/2022/05/19/americas-states-are-drifting-apart-over-illegal-immigration\n",
            "/middle-east-and-africa/2022/05/19/is-weak-governance-harming-the-african-development-bank\n"
          ]
        }
      ]
    },
    {
      "cell_type": "code",
      "source": [
        "p = soup.find_all( role = 'main',id='content')"
      ],
      "metadata": {
        "id": "3zyBbuylzFOO"
      },
      "execution_count": 25,
      "outputs": []
    },
    {
      "cell_type": "code",
      "source": [
        "urls = [];\n",
        "for pp in p:\n",
        "  ax = pp.find_all('a')\n",
        "  for aa in ax:\n",
        "    if aa['href'][0:5] != \"https\":\n",
        "      s = 'https://www.economist.com' + aa['href']\n",
        "      urls.append(s)\n",
        "    else:\n",
        "      urls.append(aa['href']) \n",
        "    # print(f'''\n",
        "    # economist.com{url.append(aa['href'])}''')"
      ],
      "metadata": {
        "id": "jQmI2GOU1Fit"
      },
      "execution_count": 73,
      "outputs": []
    },
    {
      "cell_type": "code",
      "source": [
        "urls\n",
        "# https://www.economist.com/ukraine-crisis"
      ],
      "metadata": {
        "id": "XAPEk_jF1WrP"
      },
      "execution_count": null,
      "outputs": []
    },
    {
      "cell_type": "code",
      "source": [
        "re_u = requests.get(urls[0])\n",
        "soup_u =bs.BeautifulSoup(re_u.content,'lxml')\n",
        "p = soup_u.find_all('p')\n",
        "print(p[0].text)"
      ],
      "metadata": {
        "colab": {
          "base_uri": "https://localhost:8080/"
        },
        "id": "iDY8flwYf27w",
        "outputId": "dd53af88-7a63-4d41-e06b-4c576989be1c"
      },
      "execution_count": 90,
      "outputs": [
        {
          "output_type": "stream",
          "name": "stdout",
          "text": [
            "All of our coverage of the war in one place\n"
          ]
        }
      ]
    },
    {
      "cell_type": "code",
      "source": [
        "for u in urls:\n",
        "  re_u = requests.get(u)\n",
        "  soup_u =bs.BeautifulSoup(re_u.content,'lxml')"
      ],
      "metadata": {
        "id": "oIcMAPYbbouI"
      },
      "execution_count": null,
      "outputs": []
    },
    {
      "cell_type": "code",
      "source": [
        "words = ['war', 'ukraine’s','ukraine’s','russia','global','ukrainian','russian','mariupol']"
      ],
      "metadata": {
        "id": "KIzav3FAc9U3"
      },
      "execution_count": 127,
      "outputs": []
    },
    {
      "cell_type": "code",
      "source": [
        "my_url = []\n",
        "my_dict={}\n",
        "for uu in urls:\n",
        "  re_u = requests.get(uu)\n",
        "  soup_u =bs.BeautifulSoup(re_u.content,'lxml')\n",
        "  s = soup_u.find_all('p')\n",
        "  ss = s[0].text\n",
        "  # print(ss)\n",
        "  for word in list(ss.split(\" \")):\n",
        "    if word.lower() in words:\n",
        "      my_url.append(uu)\n",
        "      my_dict[uu] = ss\n",
        "      break"
      ],
      "metadata": {
        "id": "MJBvqSIShmzx"
      },
      "execution_count": 128,
      "outputs": []
    },
    {
      "cell_type": "code",
      "source": [
        "my_dict"
      ],
      "metadata": {
        "id": "MNz4Nv6UnXrA"
      },
      "execution_count": null,
      "outputs": []
    },
    {
      "cell_type": "markdown",
      "source": [
        "Scrapping 20 news websites"
      ],
      "metadata": {
        "id": "rSTZHfeBycRV"
      }
    },
    {
      "cell_type": "code",
      "source": [
        "def re_bs(url):\n",
        "  re = requests.get(url)\n",
        "  soup = bs.BeautifulSoup(re.content,'lxml')\n",
        "  return soup"
      ],
      "metadata": {
        "id": "QoxFX35JsNEA"
      },
      "execution_count": 130,
      "outputs": []
    },
    {
      "cell_type": "code",
      "source": [
        "all_urls = []"
      ],
      "metadata": {
        "id": "AaqcDpWEyhWK"
      },
      "execution_count": 215,
      "outputs": []
    },
    {
      "cell_type": "markdown",
      "source": [
        "google news"
      ],
      "metadata": {
        "id": "NBzIPGFZsAYY"
      }
    },
    {
      "cell_type": "code",
      "source": [
        "url_google = \"https://news.google.com/topstories?hl=en-IN&gl=IN&ceid=IN:en\"\n",
        "soup_google = re_bs(url_google)"
      ],
      "metadata": {
        "id": "oRU8X9ZtsDdg"
      },
      "execution_count": 131,
      "outputs": []
    },
    {
      "cell_type": "code",
      "source": [
        "main = soup_google.find_all('c-wiz', jsrenderer = \"OIIjLd\")"
      ],
      "metadata": {
        "id": "ykvcBRZtsq2Y"
      },
      "execution_count": 138,
      "outputs": []
    },
    {
      "cell_type": "code",
      "source": [
        "urls_in_google = []\n",
        "c=0\n",
        "for m in main:\n",
        "  a = m.find_all('a')\n",
        "  for aa in a:\n",
        "    try:\n",
        "      s = aa['href']\n",
        "      print(s[2:9])\n",
        "      if s[2:9] != (\"article\" or \"stories\"):\n",
        "        c\n",
        "        # print(ss)\n",
        "      else:\n",
        "        ss = \"https://news.google.com/\" + s[2:]\n",
        "        urls_in_google.append(ss)\n",
        "      # print(aa['href'])\n",
        "    except:\n",
        "      c "
      ],
      "metadata": {
        "id": "h2vJaKqXudw4"
      },
      "execution_count": null,
      "outputs": []
    },
    {
      "cell_type": "code",
      "source": [
        "urls_in_google"
      ],
      "metadata": {
        "id": "ICXCZ5iLsuKY"
      },
      "execution_count": null,
      "outputs": []
    },
    {
      "cell_type": "code",
      "source": [
        "all_urls = all_urls + urls_in_google"
      ],
      "metadata": {
        "id": "eSzjMRgctelJ"
      },
      "execution_count": 217,
      "outputs": []
    },
    {
      "cell_type": "markdown",
      "source": [
        "Testing google news"
      ],
      "metadata": {
        "id": "kr9kicGn4k0p"
      }
    },
    {
      "cell_type": "code",
      "source": [
        "u = urls_in_google[3]\n",
        "print(u)\n",
        "soup_temp = re_bs(u)"
      ],
      "metadata": {
        "colab": {
          "base_uri": "https://localhost:8080/"
        },
        "id": "7kBM-QM8yvOo",
        "outputId": "b25fa9e8-22ae-4fbe-ad49-f434c2872fbc"
      },
      "execution_count": 214,
      "outputs": [
        {
          "output_type": "stream",
          "name": "stdout",
          "text": [
            "https://news.google.com/articles/CCAiC3R5WXphNzZXY2ZZmAEB?hl=en-IN&gl=IN&ceid=IN%3Aen\n"
          ]
        }
      ]
    },
    {
      "cell_type": "code",
      "source": [
        "pp = soup_temp.find_all('p')\n",
        "pp"
      ],
      "metadata": {
        "id": "HMwaSAGHzVIJ"
      },
      "execution_count": null,
      "outputs": []
    },
    {
      "cell_type": "code",
      "source": [
        "for ppp in pp:\n",
        "  print(ppp.text)"
      ],
      "metadata": {
        "id": "NgD1P9t4zcWZ"
      },
      "execution_count": null,
      "outputs": []
    },
    {
      "cell_type": "markdown",
      "source": [
        ""
      ],
      "metadata": {
        "id": "rPCmaH6J4n9p"
      }
    },
    {
      "cell_type": "code",
      "source": [
        ""
      ],
      "metadata": {
        "id": "KnB2ryns0rQ6"
      },
      "execution_count": null,
      "outputs": []
    }
  ]
}