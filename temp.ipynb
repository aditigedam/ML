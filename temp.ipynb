{
  "nbformat": 4,
  "nbformat_minor": 0,
  "metadata": {
    "colab": {
      "name": "temp.ipynb",
      "provenance": [],
      "collapsed_sections": [],
      "authorship_tag": "ABX9TyPK00uTzN7rJqpQTldcaXGW",
      "include_colab_link": true
    },
    "kernelspec": {
      "name": "python3",
      "display_name": "Python 3"
    },
    "language_info": {
      "name": "python"
    }
  },
  "cells": [
    {
      "cell_type": "markdown",
      "metadata": {
        "id": "view-in-github",
        "colab_type": "text"
      },
      "source": [
        "<a href=\"https://colab.research.google.com/github/aditigedam/ML/blob/main/temp.ipynb\" target=\"_parent\"><img src=\"https://colab.research.google.com/assets/colab-badge.svg\" alt=\"Open In Colab\"/></a>"
      ]
    },
    {
      "cell_type": "code",
      "execution_count": 2,
      "metadata": {
        "id": "04sWKXAis8BF"
      },
      "outputs": [],
      "source": [
        "# assachac\n",
        "#flaxbox\n",
        "# https://codeshare.io/9OxgyV\n",
        "# https://codeshare.io/JbJkrd\n",
        "\n",
        "#sticky\n",
        "#https://codeshare.io/nzOynY\n",
        "#https://codeshare.io/kmqlAY\n"
      ]
    }
  ]
}