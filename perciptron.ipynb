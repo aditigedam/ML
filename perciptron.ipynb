{
  "nbformat": 4,
  "nbformat_minor": 0,
  "metadata": {
    "colab": {
      "name": "perciptron.ipynb",
      "provenance": [],
      "authorship_tag": "ABX9TyPkJygsskJPjmEXnIMWzRIJ",
      "include_colab_link": true
    },
    "kernelspec": {
      "name": "python3",
      "display_name": "Python 3"
    },
    "language_info": {
      "name": "python"
    }
  },
  "cells": [
    {
      "cell_type": "markdown",
      "metadata": {
        "id": "view-in-github",
        "colab_type": "text"
      },
      "source": [
        "<a href=\"https://colab.research.google.com/github/aditigedam/ML/blob/main/perciptron.ipynb\" target=\"_parent\"><img src=\"https://colab.research.google.com/assets/colab-badge.svg\" alt=\"Open In Colab\"/></a>"
      ]
    },
    {
      "cell_type": "code",
      "execution_count": null,
      "metadata": {
        "id": "XmOb_guRnqqP"
      },
      "outputs": [],
      "source": [
        "import numpy as np\n",
        "lr = 1\n",
        "bias =1 \n",
        "w = [1,2,3]"
      ]
    },
    {
      "cell_type": "code",
      "source": [
        "def perceptron(in1,in2,output):\n",
        "  output1 = in1*w[0] + in2*w[1] + biase*w[2]\n",
        "  if output1 >0:\n",
        "    output1 = 1\n",
        "  else:\n",
        "    output1 = 0\n",
        "  error = output - output1\n",
        "  w[0] += error * in1 * lr\n",
        "  w[1] += error * in2 * lr\n",
        "  w[2] += error * bias * lr"
      ],
      "metadata": {
        "id": "MYKs2Ap4oAF2"
      },
      "execution_count": null,
      "outputs": []
    },
    {
      "cell_type": "code",
      "source": [
        "for i in range(50) :\n",
        "   perceptron(1,1,1) #True or true\n",
        "   perceptron(1,0,1) #True or false\n",
        "   perceptron(0,1,1) #False or true\n",
        "   perceptron(0,0,0) #False or false"
      ],
      "metadata": {
        "id": "XeIxCWv0p0Rg"
      },
      "execution_count": null,
      "outputs": []
    },
    {
      "cell_type": "code",
      "source": [
        " x= int(input())\n",
        " y = int(input())\n",
        " outputf = x*w[0] + y* w[1] + bias*w[2]\n",
        " if(outputf >0):\n",
        "   outputf =1\n",
        " else :\n",
        "   outputf = 0\n",
        " print(x,\"OR\",y,\"=\",outputf)  "
      ],
      "metadata": {
        "colab": {
          "base_uri": "https://localhost:8080/"
        },
        "id": "KYl02KwRqNpg",
        "outputId": "657104dd-0737-4263-e8ae-2eb450143ee7"
      },
      "execution_count": null,
      "outputs": [
        {
          "output_type": "stream",
          "name": "stdout",
          "text": [
            "1\n",
            "0\n",
            "1 OR 0 = 1\n"
          ]
        }
      ]
    },
    {
      "cell_type": "code",
      "source": [
        ""
      ],
      "metadata": {
        "id": "YfDnE3EUq0aP"
      },
      "execution_count": null,
      "outputs": []
    }
  ]
}